{
 "cells": [
  {
   "cell_type": "code",
   "execution_count": 2,
   "metadata": {},
   "outputs": [],
   "source": [
    "from FCI_MATRIX_helper import *\n",
    "from STATE_PREP_helper import *"
   ]
  },
  {
   "cell_type": "code",
   "execution_count": 3,
   "metadata": {},
   "outputs": [],
   "source": [
    "lambda_value = 0.0001\n",
    "lambda_min = -lambda_value\n",
    "lambda_max = lambda_value\n",
    "nuclear_dipole_moment = 35.290635377386\n",
    "au = 2.54177000\n",
    "# 1 Debye =   2.54177000 a.u. \n",
    "#integral reading after applying perturbation -0.001 \n",
    "file_path = f\"C:/Users/prita/Desktop/DIRAC_FF_DATA/DIRAC_FF_DATA/SrF_finitefield_DATA/SrF_FF_{lambda_value}/-{lambda_value}/FCIDUMP\"\n",
    "# C:\\Users\\prita\\Desktop\\DIRAC_FF_DATA\\DIRAC_FF_DATA\\SrF_finitefield_DATA\\SrF_FF_0.001\\-0.001\\FCIDUMP\n",
    "integral_dict_min0001 = read_integrals(file_path)\n",
    "\n",
    "#integral reading after applying perturbation +0.001 \n",
    "file_path = f\"C:/Users/prita/Desktop/DIRAC_FF_DATA/DIRAC_FF_DATA/SrF_finitefield_DATA/SrF_FF_{lambda_value}/+{lambda_value}/FCIDUMP\"\n",
    "# C:\\Users\\prita\\Desktop\\DIRAC_FF_DATA\\DIRAC_FF_DATA\\SrF_finitefield_DATA\\SrF_FF_0.001\\-0.001\\FCIDUMP\n",
    "integral_dict_max0001 = read_integrals(file_path)"
   ]
  },
  {
   "cell_type": "code",
   "execution_count": 4,
   "metadata": {},
   "outputs": [
    {
     "name": "stdout",
     "output_type": "stream",
     "text": [
      "Number of generated states: 24\n",
      "Generated states:\n",
      "[1, 2, 3] | [1, 2, 3] => Nexcite = 0\n",
      "[1, 2, 3] | [1, 2, 5] => Nexcite = 1\n",
      "[1, 2, 3] | [1, 2, 7] => Nexcite = 1\n",
      "[1, 2, 3] | [1, 3, 4] => Nexcite = 1\n",
      "[1, 2, 3] | [1, 3, 6] => Nexcite = 1\n",
      "[1, 2, 3] | [1, 3, 8] => Nexcite = 1\n",
      "[1, 2, 3] | [1, 4, 5] => Nexcite = 2\n",
      "[1, 2, 3] | [1, 4, 7] => Nexcite = 2\n",
      "[1, 2, 3] | [1, 5, 6] => Nexcite = 2\n",
      "[1, 2, 3] | [1, 5, 8] => Nexcite = 2\n",
      "[1, 2, 3] | [1, 6, 7] => Nexcite = 2\n",
      "[1, 2, 3] | [1, 7, 8] => Nexcite = 2\n",
      "[1, 2, 3] | [2, 3, 5] => Nexcite = 1\n",
      "[1, 2, 3] | [2, 3, 7] => Nexcite = 1\n",
      "[1, 2, 3] | [2, 5, 7] => Nexcite = 2\n",
      "[1, 2, 3] | [3, 4, 5] => Nexcite = 2\n",
      "[1, 2, 3] | [3, 4, 7] => Nexcite = 2\n",
      "[1, 2, 3] | [3, 5, 6] => Nexcite = 2\n",
      "[1, 2, 3] | [3, 5, 8] => Nexcite = 2\n",
      "[1, 2, 3] | [3, 6, 7] => Nexcite = 2\n",
      "[1, 2, 3] | [3, 7, 8] => Nexcite = 2\n",
      "[1, 2, 3] | [4, 5, 7] => Nexcite = 3\n",
      "[1, 2, 3] | [5, 7, 8] => Nexcite = 3\n",
      "Number of states after removing states with more than 2 excitations: 22\n"
     ]
    }
   ],
   "source": [
    "N_ORB = 8\n",
    "N_ELEC = 3\n",
    "N_alpha = 2\n",
    "N_beta = 1\n",
    "\n",
    "#State preparation for the perturbation -0.001 and +0.001\n",
    "states  = generate_states(N_ORB, N_ELEC, N_alpha, N_beta)\n",
    "print(\"Number of generated states:\", len(states))\n",
    "print(\"Generated states:\")\n",
    "for state in states:\n",
    "    print(f'{states[0]} | {state} => Nexcite = {len(set(state) - set(states[0]))}')\n",
    "    # discard the states with more than 2 excitations\n",
    "    if len(set(state) - set(states[0])) > 2:\n",
    "        states.remove(state)\n",
    "print(\"Number of states after removing states with more than 2 excitations:\", len(states))\n"
   ]
  },
  {
   "cell_type": "code",
   "execution_count": 9,
   "metadata": {},
   "outputs": [
    {
     "name": "stdout",
     "output_type": "stream",
     "text": [
      "HF energy for lambda=-0.0001: -3241.560590100807\n"
     ]
    }
   ],
   "source": [
    "hf_energy_min001 = Matrix_elements(states[0], states[0], integral_dict_min0001)\n",
    "print(f\"HF energy for lambda=-{lambda_value}:\", hf_energy_min001 + integral_dict_min0001[\"(0, 0, 0, 0)\"])\n",
    "E_min = hf_energy_min001 + integral_dict_min0001[\"(0, 0, 0, 0)\"]"
   ]
  },
  {
   "cell_type": "code",
   "execution_count": 10,
   "metadata": {},
   "outputs": [
    {
     "name": "stdout",
     "output_type": "stream",
     "text": [
      "HF energy for lambda=+0.0001: -3241.553380787281\n"
     ]
    }
   ],
   "source": [
    "hf_energy_max001 = Matrix_elements(states[0], states[0], integral_dict_max0001)\n",
    "print(f\"HF energy for lambda=+{lambda_value}:\", hf_energy_max001 + integral_dict_max0001[\"(0, 0, 0, 0)\"])\n",
    "E_max = hf_energy_max001 + integral_dict_max0001[\"(0, 0, 0, 0)\"]"
   ]
  },
  {
   "cell_type": "code",
   "execution_count": 11,
   "metadata": {},
   "outputs": [
    {
     "name": "stdout",
     "output_type": "stream",
     "text": [
      "Dipole moment: 36.04656762945524\n"
     ]
    }
   ],
   "source": [
    "#Finite field calculation :\n",
    "elec_dipole_moment  = abs(E_max - E_min) / abs(lambda_max - lambda_min)\n",
    "print(\"Dipole moment:\", elec_dipole_moment)"
   ]
  },
  {
   "cell_type": "code",
   "execution_count": 12,
   "metadata": {},
   "outputs": [
    {
     "name": "stdout",
     "output_type": "stream",
     "text": [
      "Results from SCF energies : \n",
      "Dipole moment in debye: 0.7559322520692362\n",
      "Dipole moment in a.u.: 1.9214059203420226\n"
     ]
    }
   ],
   "source": [
    "print(\"Results from SCF energies : \")\n",
    "dm_db = abs(nuclear_dipole_moment-elec_dipole_moment)\n",
    "print(\"Dipole moment in debye:\", dm_db)\n",
    "print(\"Dipole moment in a.u.:\", dm_db*au)\n"
   ]
  },
  {
   "cell_type": "code",
   "execution_count": 13,
   "metadata": {},
   "outputs": [],
   "source": [
    "#Calculation from FCI energies\n",
    "FCI_min0001 = FCI_matrix(states, integral_dict_min0001)\n",
    "FCI_max0001 = FCI_matrix(states, integral_dict_max0001)\n",
    "\n",
    "e_FCI_min0001 = FCI_eign(FCI_min0001)\n",
    "e_FCI_max0001 = FCI_eign(FCI_max0001)"
   ]
  },
  {
   "cell_type": "code",
   "execution_count": 14,
   "metadata": {},
   "outputs": [
    {
     "name": "stdout",
     "output_type": "stream",
     "text": [
      "Results from FCI energies :\n",
      "Dipole moment from FCI energies: 35.795216540464025\n",
      "Dipole moment in debye: 0.7559322520692362\n",
      "Dipole moment in a.u.: 1.9214059203420226\n"
     ]
    }
   ],
   "source": [
    "#Finite field calculation :\n",
    "print(\"Results from FCI energies :\")\n",
    "FCI_energy_min001 = e_FCI_min0001 + integral_dict_min0001[\"(0, 0, 0, 0)\"]\n",
    "FCI_energy_max001 = e_FCI_max0001 + integral_dict_max0001[\"(0, 0, 0, 0)\"]\n",
    "elec_dipole_moment_FCI  = abs(FCI_energy_max001[0] - FCI_energy_min001[0]) / abs(lambda_max - lambda_min)\n",
    "print(\"Dipole moment from FCI energies:\", elec_dipole_moment_FCI)\n",
    "dm_db = abs(nuclear_dipole_moment-elec_dipole_moment)\n",
    "print(\"Dipole moment in debye:\", dm_db)\n",
    "print(\"Dipole moment in a.u.:\", dm_db*au)\n"
   ]
  }
 ],
 "metadata": {
  "kernelspec": {
   "display_name": "Python 3",
   "language": "python",
   "name": "python3"
  },
  "language_info": {
   "codemirror_mode": {
    "name": "ipython",
    "version": 3
   },
   "file_extension": ".py",
   "mimetype": "text/x-python",
   "name": "python",
   "nbconvert_exporter": "python",
   "pygments_lexer": "ipython3",
   "version": "3.13.1"
  }
 },
 "nbformat": 4,
 "nbformat_minor": 2
}
